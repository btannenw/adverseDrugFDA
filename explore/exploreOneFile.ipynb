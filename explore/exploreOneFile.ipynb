{
 "cells": [
  {
   "cell_type": "code",
   "execution_count": null,
   "metadata": {},
   "outputs": [],
   "source": [
    "#TO-DO\n",
    "# Suggestions:\n",
    "# -3) Are different adverse events reported in different countries?\n",
    "#   --> make bar chart for REACTION for different countries\n",
    "#   --> age splits\n",
    "#   --> gender splits\n",
    "\n",
    "# -2) What are the different adverse events associated with different disease areas? \n",
    "#   --> does disease area mean e.g. drugindication = RHEUMATOID ARTHRITIS\n",
    "#   --> make bar-chart of REACTION for drugindiciation\n",
    "#   --> make bar-chart of REACTION for most common drug(s) associated with particular indicatino\n",
    "#   --> show gender splits?\n",
    "#   --> show splits by age?\n",
    "\n",
    "# -1) What drugs tend to be taken together? \n",
    "#   --> make list of drug incidence, find most common\n",
    "#   --> make list of drug-pair incidence, find most common\n",
    "#   --> make a correlation matrix of drugs\n",
    "\n",
    "# Ben Ideas\n",
    "#1. Find most common drugs for given drugindication\n",
    "#2. For particular drug show N_adverse as a ftn of time/patient age\n",
    "#3. Show N_adverse as a function of patient age/sex\n",
    "#4. Show N_adverse as a function of dosage\n",
    "#5. Learn what seriousness reporting means"
   ]
  },
  {
   "cell_type": "code",
   "execution_count": 58,
   "metadata": {},
   "outputs": [],
   "source": [
    "import pandas as pd\n",
    "import numpy as np\n",
    "import json\n",
    "import zipfile\n",
    "from matplotlib import pyplot as plt"
   ]
  },
  {
   "cell_type": "code",
   "execution_count": 2,
   "metadata": {},
   "outputs": [],
   "source": [
    "filename='/home/btannenw/Desktop/life/adverseDrugFDA/data/2011-Q3/drug-event-0001-of-0012.json.zip'\n",
    "#jsonFile = json.loads(open(filename),)\n",
    "#json.loads(data.decode(\"utf-8\"))\n",
    "#oneFile = pd.read_json('/home/btannenw/Desktop/life/adverseDrugFDA/data/2011-Q3/drug-event-0001-of-0012.json.zip', \n",
    "#                       encoding='utf-8', compression='zip')"
   ]
  },
  {
   "cell_type": "code",
   "execution_count": null,
   "metadata": {},
   "outputs": [],
   "source": [
    "#from pandas_profiling import ProfileReport\n",
    "#profile = ProfileReport(df, title=\"Pandas Profiling Report\")\n",
    "#profile.to_widgets()"
   ]
  },
  {
   "cell_type": "code",
   "execution_count": 3,
   "metadata": {},
   "outputs": [
    {
     "name": "stdout",
     "output_type": "stream",
     "text": [
      "drug-event-0001-of-0012.json\n"
     ]
    }
   ],
   "source": [
    "d = []\n",
    "data = []\n",
    "\n",
    "with zipfile.ZipFile(filename, 'r') as z:\n",
    "    for filename in z.namelist():  \n",
    "        print(filename)  \n",
    "        with z.open(filename) as f:  \n",
    "            data = f.read()  \n",
    "            d = json.loads(data.decode(\"utf-8\"))  "
   ]
  },
  {
   "cell_type": "code",
   "execution_count": 4,
   "metadata": {},
   "outputs": [
    {
     "data": {
      "text/plain": [
       "dict_keys(['meta', 'results'])"
      ]
     },
     "execution_count": 4,
     "metadata": {},
     "output_type": "execute_result"
    }
   ],
   "source": [
    "d.keys()\n",
    "#d['meta']"
   ]
  },
  {
   "cell_type": "code",
   "execution_count": 9,
   "metadata": {},
   "outputs": [
    {
     "data": {
      "text/html": [
       "<div>\n",
       "<style scoped>\n",
       "    .dataframe tbody tr th:only-of-type {\n",
       "        vertical-align: middle;\n",
       "    }\n",
       "\n",
       "    .dataframe tbody tr th {\n",
       "        vertical-align: top;\n",
       "    }\n",
       "\n",
       "    .dataframe thead th {\n",
       "        text-align: right;\n",
       "    }\n",
       "</style>\n",
       "<table border=\"1\" class=\"dataframe\">\n",
       "  <thead>\n",
       "    <tr style=\"text-align: right;\">\n",
       "      <th></th>\n",
       "      <th>receivedate</th>\n",
       "      <th>patient</th>\n",
       "      <th>sender</th>\n",
       "      <th>transmissiondate</th>\n",
       "      <th>primarysource</th>\n",
       "      <th>receiptdate</th>\n",
       "      <th>transmissiondateformat</th>\n",
       "      <th>receiptdateformat</th>\n",
       "      <th>receiver</th>\n",
       "      <th>serious</th>\n",
       "      <th>receivedateformat</th>\n",
       "      <th>fulfillexpeditecriteria</th>\n",
       "      <th>safetyreportid</th>\n",
       "      <th>companynumb</th>\n",
       "      <th>seriousnessother</th>\n",
       "      <th>seriousnesshospitalization</th>\n",
       "      <th>seriousnessdeath</th>\n",
       "      <th>seriousnesslifethreatening</th>\n",
       "      <th>seriousnessdisabling</th>\n",
       "      <th>seriousnesscongenitalanomali</th>\n",
       "    </tr>\n",
       "  </thead>\n",
       "  <tbody>\n",
       "    <tr>\n",
       "      <th>0</th>\n",
       "      <td>20111106</td>\n",
       "      <td>{'reaction': [{'reactionmeddrapt': 'SKIN DISCO...</td>\n",
       "      <td>{'senderorganization': 'FDA-Public Use'}</td>\n",
       "      <td>20120403</td>\n",
       "      <td>{'reportercountry': 'UNITED STATES', 'qualific...</td>\n",
       "      <td>20110816</td>\n",
       "      <td>102</td>\n",
       "      <td>102</td>\n",
       "      <td>None</td>\n",
       "      <td>2</td>\n",
       "      <td>102</td>\n",
       "      <td>2</td>\n",
       "      <td>7894609-0</td>\n",
       "      <td>US-AMGEN-USASP2011041867</td>\n",
       "      <td>NaN</td>\n",
       "      <td>NaN</td>\n",
       "      <td>NaN</td>\n",
       "      <td>NaN</td>\n",
       "      <td>NaN</td>\n",
       "      <td>NaN</td>\n",
       "    </tr>\n",
       "    <tr>\n",
       "      <th>1</th>\n",
       "      <td>20111106</td>\n",
       "      <td>{'reaction': [{'reactionmeddrapt': 'MUSCULOSKE...</td>\n",
       "      <td>{'senderorganization': 'FDA-Public Use'}</td>\n",
       "      <td>20120403</td>\n",
       "      <td>{'reportercountry': 'UNITED STATES', 'qualific...</td>\n",
       "      <td>20110817</td>\n",
       "      <td>102</td>\n",
       "      <td>102</td>\n",
       "      <td>None</td>\n",
       "      <td>2</td>\n",
       "      <td>102</td>\n",
       "      <td>2</td>\n",
       "      <td>7894626-0</td>\n",
       "      <td>US-AMGEN-USASP2011041937</td>\n",
       "      <td>NaN</td>\n",
       "      <td>NaN</td>\n",
       "      <td>NaN</td>\n",
       "      <td>NaN</td>\n",
       "      <td>NaN</td>\n",
       "      <td>NaN</td>\n",
       "    </tr>\n",
       "    <tr>\n",
       "      <th>2</th>\n",
       "      <td>20111106</td>\n",
       "      <td>{'reaction': [{'reactionmeddrapt': 'MUSCLE SPA...</td>\n",
       "      <td>{'senderorganization': 'FDA-Public Use'}</td>\n",
       "      <td>20120403</td>\n",
       "      <td>{'reportercountry': 'UNITED STATES', 'qualific...</td>\n",
       "      <td>20110820</td>\n",
       "      <td>102</td>\n",
       "      <td>102</td>\n",
       "      <td>None</td>\n",
       "      <td>2</td>\n",
       "      <td>102</td>\n",
       "      <td>2</td>\n",
       "      <td>7894922-7</td>\n",
       "      <td>US-AMGEN-USASP2011042568</td>\n",
       "      <td>NaN</td>\n",
       "      <td>NaN</td>\n",
       "      <td>NaN</td>\n",
       "      <td>NaN</td>\n",
       "      <td>NaN</td>\n",
       "      <td>NaN</td>\n",
       "    </tr>\n",
       "    <tr>\n",
       "      <th>3</th>\n",
       "      <td>20111106</td>\n",
       "      <td>{'reaction': [{'reactionmeddrapt': 'SINUSITIS'...</td>\n",
       "      <td>{'senderorganization': 'FDA-Public Use'}</td>\n",
       "      <td>20120403</td>\n",
       "      <td>{'reportercountry': 'UNITED STATES', 'qualific...</td>\n",
       "      <td>20110823</td>\n",
       "      <td>102</td>\n",
       "      <td>102</td>\n",
       "      <td>None</td>\n",
       "      <td>2</td>\n",
       "      <td>102</td>\n",
       "      <td>2</td>\n",
       "      <td>7895062-3</td>\n",
       "      <td>US-AMGEN-USASP2011043018</td>\n",
       "      <td>NaN</td>\n",
       "      <td>NaN</td>\n",
       "      <td>NaN</td>\n",
       "      <td>NaN</td>\n",
       "      <td>NaN</td>\n",
       "      <td>NaN</td>\n",
       "    </tr>\n",
       "    <tr>\n",
       "      <th>4</th>\n",
       "      <td>20111106</td>\n",
       "      <td>{'reaction': [{'reactionmeddrapt': 'OROPHARYNG...</td>\n",
       "      <td>{'senderorganization': 'FDA-Public Use'}</td>\n",
       "      <td>20120403</td>\n",
       "      <td>{'reportercountry': 'UNITED STATES', 'qualific...</td>\n",
       "      <td>20110824</td>\n",
       "      <td>102</td>\n",
       "      <td>102</td>\n",
       "      <td>None</td>\n",
       "      <td>2</td>\n",
       "      <td>102</td>\n",
       "      <td>2</td>\n",
       "      <td>7895266-X</td>\n",
       "      <td>US-AMGEN-USASP2011043329</td>\n",
       "      <td>NaN</td>\n",
       "      <td>NaN</td>\n",
       "      <td>NaN</td>\n",
       "      <td>NaN</td>\n",
       "      <td>NaN</td>\n",
       "      <td>NaN</td>\n",
       "    </tr>\n",
       "    <tr>\n",
       "      <th>...</th>\n",
       "      <td>...</td>\n",
       "      <td>...</td>\n",
       "      <td>...</td>\n",
       "      <td>...</td>\n",
       "      <td>...</td>\n",
       "      <td>...</td>\n",
       "      <td>...</td>\n",
       "      <td>...</td>\n",
       "      <td>...</td>\n",
       "      <td>...</td>\n",
       "      <td>...</td>\n",
       "      <td>...</td>\n",
       "      <td>...</td>\n",
       "      <td>...</td>\n",
       "      <td>...</td>\n",
       "      <td>...</td>\n",
       "      <td>...</td>\n",
       "      <td>...</td>\n",
       "      <td>...</td>\n",
       "      <td>...</td>\n",
       "    </tr>\n",
       "    <tr>\n",
       "      <th>11995</th>\n",
       "      <td>20111106</td>\n",
       "      <td>{'reaction': [{'reactionmeddrapt': 'DIZZINESS'...</td>\n",
       "      <td>{'senderorganization': 'FDA-Public Use'}</td>\n",
       "      <td>20120403</td>\n",
       "      <td>{'reportercountry': 'UNITED STATES', 'qualific...</td>\n",
       "      <td>20110907</td>\n",
       "      <td>102</td>\n",
       "      <td>102</td>\n",
       "      <td>None</td>\n",
       "      <td>2</td>\n",
       "      <td>102</td>\n",
       "      <td>2</td>\n",
       "      <td>7896210-1</td>\n",
       "      <td>US-AMGEN-USASP2011045766</td>\n",
       "      <td>NaN</td>\n",
       "      <td>NaN</td>\n",
       "      <td>NaN</td>\n",
       "      <td>NaN</td>\n",
       "      <td>NaN</td>\n",
       "      <td>NaN</td>\n",
       "    </tr>\n",
       "    <tr>\n",
       "      <th>11996</th>\n",
       "      <td>20111106</td>\n",
       "      <td>{'reaction': [{'reactionmeddrapt': 'INJECTION ...</td>\n",
       "      <td>{'senderorganization': 'FDA-Public Use'}</td>\n",
       "      <td>20120403</td>\n",
       "      <td>{'reportercountry': 'UNITED STATES', 'qualific...</td>\n",
       "      <td>20110908</td>\n",
       "      <td>102</td>\n",
       "      <td>102</td>\n",
       "      <td>None</td>\n",
       "      <td>2</td>\n",
       "      <td>102</td>\n",
       "      <td>2</td>\n",
       "      <td>7896407-0</td>\n",
       "      <td>US-AMGEN-USASP2011046000</td>\n",
       "      <td>NaN</td>\n",
       "      <td>NaN</td>\n",
       "      <td>NaN</td>\n",
       "      <td>NaN</td>\n",
       "      <td>NaN</td>\n",
       "      <td>NaN</td>\n",
       "    </tr>\n",
       "    <tr>\n",
       "      <th>11997</th>\n",
       "      <td>20111106</td>\n",
       "      <td>{'reaction': [{'reactionmeddrapt': 'ARTHRALGIA...</td>\n",
       "      <td>{'senderorganization': 'FDA-Public Use'}</td>\n",
       "      <td>20120403</td>\n",
       "      <td>{'reportercountry': 'UNITED STATES', 'qualific...</td>\n",
       "      <td>20110909</td>\n",
       "      <td>102</td>\n",
       "      <td>102</td>\n",
       "      <td>None</td>\n",
       "      <td>2</td>\n",
       "      <td>102</td>\n",
       "      <td>2</td>\n",
       "      <td>7896458-6</td>\n",
       "      <td>US-AMGEN-USASP2011046268</td>\n",
       "      <td>NaN</td>\n",
       "      <td>NaN</td>\n",
       "      <td>NaN</td>\n",
       "      <td>NaN</td>\n",
       "      <td>NaN</td>\n",
       "      <td>NaN</td>\n",
       "    </tr>\n",
       "    <tr>\n",
       "      <th>11998</th>\n",
       "      <td>20111216</td>\n",
       "      <td>{'reaction': [{'reactionmeddrapt': 'PANCREATIT...</td>\n",
       "      <td>{'senderorganization': 'FDA-Public Use'}</td>\n",
       "      <td>20120403</td>\n",
       "      <td>{'reportercountry': 'UNITED STATES', 'qualific...</td>\n",
       "      <td>20110722</td>\n",
       "      <td>102</td>\n",
       "      <td>102</td>\n",
       "      <td>None</td>\n",
       "      <td>1</td>\n",
       "      <td>102</td>\n",
       "      <td>2</td>\n",
       "      <td>7986537-7</td>\n",
       "      <td>US-BRISTOL-MYERS SQUIBB COMPANY-15919855</td>\n",
       "      <td>1</td>\n",
       "      <td>NaN</td>\n",
       "      <td>NaN</td>\n",
       "      <td>NaN</td>\n",
       "      <td>NaN</td>\n",
       "      <td>NaN</td>\n",
       "    </tr>\n",
       "    <tr>\n",
       "      <th>11999</th>\n",
       "      <td>20111216</td>\n",
       "      <td>{'reaction': [{'reactionmeddrapt': 'DYSPHAGIA'...</td>\n",
       "      <td>{'senderorganization': 'FDA-Public Use'}</td>\n",
       "      <td>20120403</td>\n",
       "      <td>{'reportercountry': 'UNITED STATES', 'qualific...</td>\n",
       "      <td>20110929</td>\n",
       "      <td>102</td>\n",
       "      <td>102</td>\n",
       "      <td>None</td>\n",
       "      <td>2</td>\n",
       "      <td>102</td>\n",
       "      <td>2</td>\n",
       "      <td>7987082-5</td>\n",
       "      <td>US-BRISTOL-MYERS SQUIBB COMPANY-16115263</td>\n",
       "      <td>NaN</td>\n",
       "      <td>NaN</td>\n",
       "      <td>NaN</td>\n",
       "      <td>NaN</td>\n",
       "      <td>NaN</td>\n",
       "      <td>NaN</td>\n",
       "    </tr>\n",
       "  </tbody>\n",
       "</table>\n",
       "<p>12000 rows × 20 columns</p>\n",
       "</div>"
      ],
      "text/plain": [
       "      receivedate                                            patient  \\\n",
       "0        20111106  {'reaction': [{'reactionmeddrapt': 'SKIN DISCO...   \n",
       "1        20111106  {'reaction': [{'reactionmeddrapt': 'MUSCULOSKE...   \n",
       "2        20111106  {'reaction': [{'reactionmeddrapt': 'MUSCLE SPA...   \n",
       "3        20111106  {'reaction': [{'reactionmeddrapt': 'SINUSITIS'...   \n",
       "4        20111106  {'reaction': [{'reactionmeddrapt': 'OROPHARYNG...   \n",
       "...           ...                                                ...   \n",
       "11995    20111106  {'reaction': [{'reactionmeddrapt': 'DIZZINESS'...   \n",
       "11996    20111106  {'reaction': [{'reactionmeddrapt': 'INJECTION ...   \n",
       "11997    20111106  {'reaction': [{'reactionmeddrapt': 'ARTHRALGIA...   \n",
       "11998    20111216  {'reaction': [{'reactionmeddrapt': 'PANCREATIT...   \n",
       "11999    20111216  {'reaction': [{'reactionmeddrapt': 'DYSPHAGIA'...   \n",
       "\n",
       "                                         sender transmissiondate  \\\n",
       "0      {'senderorganization': 'FDA-Public Use'}         20120403   \n",
       "1      {'senderorganization': 'FDA-Public Use'}         20120403   \n",
       "2      {'senderorganization': 'FDA-Public Use'}         20120403   \n",
       "3      {'senderorganization': 'FDA-Public Use'}         20120403   \n",
       "4      {'senderorganization': 'FDA-Public Use'}         20120403   \n",
       "...                                         ...              ...   \n",
       "11995  {'senderorganization': 'FDA-Public Use'}         20120403   \n",
       "11996  {'senderorganization': 'FDA-Public Use'}         20120403   \n",
       "11997  {'senderorganization': 'FDA-Public Use'}         20120403   \n",
       "11998  {'senderorganization': 'FDA-Public Use'}         20120403   \n",
       "11999  {'senderorganization': 'FDA-Public Use'}         20120403   \n",
       "\n",
       "                                           primarysource receiptdate  \\\n",
       "0      {'reportercountry': 'UNITED STATES', 'qualific...    20110816   \n",
       "1      {'reportercountry': 'UNITED STATES', 'qualific...    20110817   \n",
       "2      {'reportercountry': 'UNITED STATES', 'qualific...    20110820   \n",
       "3      {'reportercountry': 'UNITED STATES', 'qualific...    20110823   \n",
       "4      {'reportercountry': 'UNITED STATES', 'qualific...    20110824   \n",
       "...                                                  ...         ...   \n",
       "11995  {'reportercountry': 'UNITED STATES', 'qualific...    20110907   \n",
       "11996  {'reportercountry': 'UNITED STATES', 'qualific...    20110908   \n",
       "11997  {'reportercountry': 'UNITED STATES', 'qualific...    20110909   \n",
       "11998  {'reportercountry': 'UNITED STATES', 'qualific...    20110722   \n",
       "11999  {'reportercountry': 'UNITED STATES', 'qualific...    20110929   \n",
       "\n",
       "      transmissiondateformat receiptdateformat receiver serious  \\\n",
       "0                        102               102     None       2   \n",
       "1                        102               102     None       2   \n",
       "2                        102               102     None       2   \n",
       "3                        102               102     None       2   \n",
       "4                        102               102     None       2   \n",
       "...                      ...               ...      ...     ...   \n",
       "11995                    102               102     None       2   \n",
       "11996                    102               102     None       2   \n",
       "11997                    102               102     None       2   \n",
       "11998                    102               102     None       1   \n",
       "11999                    102               102     None       2   \n",
       "\n",
       "      receivedateformat fulfillexpeditecriteria safetyreportid  \\\n",
       "0                   102                       2      7894609-0   \n",
       "1                   102                       2      7894626-0   \n",
       "2                   102                       2      7894922-7   \n",
       "3                   102                       2      7895062-3   \n",
       "4                   102                       2      7895266-X   \n",
       "...                 ...                     ...            ...   \n",
       "11995               102                       2      7896210-1   \n",
       "11996               102                       2      7896407-0   \n",
       "11997               102                       2      7896458-6   \n",
       "11998               102                       2      7986537-7   \n",
       "11999               102                       2      7987082-5   \n",
       "\n",
       "                                    companynumb seriousnessother  \\\n",
       "0                      US-AMGEN-USASP2011041867              NaN   \n",
       "1                      US-AMGEN-USASP2011041937              NaN   \n",
       "2                      US-AMGEN-USASP2011042568              NaN   \n",
       "3                      US-AMGEN-USASP2011043018              NaN   \n",
       "4                      US-AMGEN-USASP2011043329              NaN   \n",
       "...                                         ...              ...   \n",
       "11995                  US-AMGEN-USASP2011045766              NaN   \n",
       "11996                  US-AMGEN-USASP2011046000              NaN   \n",
       "11997                  US-AMGEN-USASP2011046268              NaN   \n",
       "11998  US-BRISTOL-MYERS SQUIBB COMPANY-15919855                1   \n",
       "11999  US-BRISTOL-MYERS SQUIBB COMPANY-16115263              NaN   \n",
       "\n",
       "      seriousnesshospitalization seriousnessdeath seriousnesslifethreatening  \\\n",
       "0                            NaN              NaN                        NaN   \n",
       "1                            NaN              NaN                        NaN   \n",
       "2                            NaN              NaN                        NaN   \n",
       "3                            NaN              NaN                        NaN   \n",
       "4                            NaN              NaN                        NaN   \n",
       "...                          ...              ...                        ...   \n",
       "11995                        NaN              NaN                        NaN   \n",
       "11996                        NaN              NaN                        NaN   \n",
       "11997                        NaN              NaN                        NaN   \n",
       "11998                        NaN              NaN                        NaN   \n",
       "11999                        NaN              NaN                        NaN   \n",
       "\n",
       "      seriousnessdisabling seriousnesscongenitalanomali  \n",
       "0                      NaN                          NaN  \n",
       "1                      NaN                          NaN  \n",
       "2                      NaN                          NaN  \n",
       "3                      NaN                          NaN  \n",
       "4                      NaN                          NaN  \n",
       "...                    ...                          ...  \n",
       "11995                  NaN                          NaN  \n",
       "11996                  NaN                          NaN  \n",
       "11997                  NaN                          NaN  \n",
       "11998                  NaN                          NaN  \n",
       "11999                  NaN                          NaN  \n",
       "\n",
       "[12000 rows x 20 columns]"
      ]
     },
     "execution_count": 9,
     "metadata": {},
     "output_type": "execute_result"
    }
   ],
   "source": [
    "df = pd.DataFrame(d['results'])\n",
    "df"
   ]
  },
  {
   "cell_type": "code",
   "execution_count": null,
   "metadata": {},
   "outputs": [],
   "source": [
    "df['primarysource'][0]['reportercountry']\n",
    "for x in df['primarysource']:\n",
    "    #dd = dir(x)\n",
    "    #if 'keys' not in dd:\n",
    "    #    print(x)\n",
    "\n",
    "    if x != None:\n",
    "        keys = x.keys()\n",
    "        if len(keys)!=2:\n",
    "            print(x.keys())"
   ]
  },
  {
   "cell_type": "code",
   "execution_count": 46,
   "metadata": {},
   "outputs": [],
   "source": [
    "#df_patient = pd.DataFrame([x for x in df['patient']])\n",
    "#df_source = pd.DataFrame([x.get('reportercountry') for x in df['primarysource'] if x != None])\n",
    "df_source = pd.DataFrame([x for x in df['primarysource'] if x != None])\n",
    "df_sender = pd.DataFrame([x for x in df.sender if x != None])\n",
    "df_patient = pd.DataFrame([x for x in df.patient if x != None])\n"
   ]
  },
  {
   "cell_type": "code",
   "execution_count": 237,
   "metadata": {},
   "outputs": [
    {
     "data": {
      "text/plain": [
       "UNITED STATES           9740\n",
       "UNITED KINGDOM           261\n",
       "JAPAN                    249\n",
       "GERMANY                  236\n",
       "CANADA                   200\n",
       "                        ... \n",
       "PERU                       1\n",
       "SYRIAN ARAB REPUBLIC       1\n",
       "LATVIA                     1\n",
       "ICELAND                    1\n",
       "ANGOLA                     1\n",
       "Name: reportercountry, Length: 77, dtype: int64"
      ]
     },
     "execution_count": 237,
     "metadata": {},
     "output_type": "execute_result"
    }
   ],
   "source": [
    "df_source.reportercountry.value_counts()\n",
    "#df2 = df[ df.primarysource != None ]\n",
    "#df_USA_patient = df_patientsubset=['reportercountry'])\n",
    "#df_USA_patient = df2[ (df2.primarysource['reportercountry']=='UNITED STATES') ]\n",
    "#mask_US = [ bool( x.get('reportercountry')=='UNITED STATES') for x in df2.primarysource]\n",
    "#df2.primarysource.get('reportercountry')=='UNITED STATES'\n",
    "#bool(df2.primarysource[0].get('reportercontry')=='UNITED STATES')"
   ]
  },
  {
   "cell_type": "code",
   "execution_count": 27,
   "metadata": {},
   "outputs": [
    {
     "data": {
      "text/plain": [
       "FDA-Public Use    12000\n",
       "Name: senderorganization, dtype: int64"
      ]
     },
     "execution_count": 27,
     "metadata": {},
     "output_type": "execute_result"
    }
   ],
   "source": [
    "df_sender.senderorganization.value_counts()\n"
   ]
  },
  {
   "cell_type": "code",
   "execution_count": 37,
   "metadata": {},
   "outputs": [
    {
     "data": {
      "text/plain": [
       "dict_keys(['reaction', 'patientonsetage', 'patientsex', 'patientonsetageunit', 'drug'])"
      ]
     },
     "execution_count": 37,
     "metadata": {},
     "output_type": "execute_result"
    }
   ],
   "source": [
    "df.patient[0].keys()"
   ]
  },
  {
   "cell_type": "code",
   "execution_count": 39,
   "metadata": {},
   "outputs": [
    {
     "data": {
      "text/plain": [
       "[{'reactionmeddrapt': 'SKIN DISCOLOURATION'},\n",
       " {'reactionmeddrapt': 'INJECTION SITE ERYTHEMA'},\n",
       " {'reactionmeddrapt': 'INJECTION SITE INDURATION'},\n",
       " {'reactionmeddrapt': 'INJECTION SITE SWELLING'}]"
      ]
     },
     "execution_count": 39,
     "metadata": {},
     "output_type": "execute_result"
    }
   ],
   "source": [
    "df.patient[0]['reaction']"
   ]
  },
  {
   "cell_type": "code",
   "execution_count": 42,
   "metadata": {},
   "outputs": [
    {
     "data": {
      "text/plain": [
       "'50'"
      ]
     },
     "execution_count": 42,
     "metadata": {},
     "output_type": "execute_result"
    }
   ],
   "source": [
    "df.patient[0]['patientonsetage']"
   ]
  },
  {
   "cell_type": "code",
   "execution_count": 43,
   "metadata": {},
   "outputs": [
    {
     "data": {
      "text/plain": [
       "'2'"
      ]
     },
     "execution_count": 43,
     "metadata": {},
     "output_type": "execute_result"
    }
   ],
   "source": [
    "df.patient[0]['patientsex']"
   ]
  },
  {
   "cell_type": "code",
   "execution_count": 44,
   "metadata": {},
   "outputs": [
    {
     "data": {
      "text/plain": [
       "'801'"
      ]
     },
     "execution_count": 44,
     "metadata": {},
     "output_type": "execute_result"
    }
   ],
   "source": [
    "df.patient[0]['patientonsetageunit']"
   ]
  },
  {
   "cell_type": "code",
   "execution_count": 45,
   "metadata": {},
   "outputs": [
    {
     "data": {
      "text/plain": [
       "[{'drugstartdateformat': '102',\n",
       "  'medicinalproduct': 'ENBREL',\n",
       "  'drugindication': 'RHEUMATOID ARTHRITIS',\n",
       "  'drugdosagetext': '50 MG, QWK',\n",
       "  'openfda': {'manufacturer_name': ['Immunex Corporation'],\n",
       "   'unii': ['OP401G7OJC'],\n",
       "   'product_type': ['HUMAN PRESCRIPTION DRUG'],\n",
       "   'rxcui': ['802652',\n",
       "    '1653225',\n",
       "    '809159',\n",
       "    '809158',\n",
       "    '2182340',\n",
       "    '261105',\n",
       "    '253014',\n",
       "    '1653223',\n",
       "    '727757',\n",
       "    '2182338'],\n",
       "   'spl_set_id': ['a002b40c-097d-47a5-957f-7a7b1807af7f'],\n",
       "   'route': ['SUBCUTANEOUS'],\n",
       "   'generic_name': ['ETANERCEPT'],\n",
       "   'brand_name': ['ENBREL'],\n",
       "   'product_ndc': ['58406-456',\n",
       "    '58406-455',\n",
       "    '58406-446',\n",
       "    '58406-435',\n",
       "    '58406-032',\n",
       "    '58406-425',\n",
       "    '58406-445',\n",
       "    '58406-010',\n",
       "    '58406-044',\n",
       "    '58406-021'],\n",
       "   'substance_name': ['ETANERCEPT'],\n",
       "   'spl_id': ['1bac748e-3ec9-4007-bd9a-541067a7567a'],\n",
       "   'application_number': ['BLA103795'],\n",
       "   'package_ndc': ['58406-044-01',\n",
       "    '58406-424-01',\n",
       "    '58406-910-01',\n",
       "    '58406-425-41',\n",
       "    '58406-456-04',\n",
       "    '58406-456-01',\n",
       "    '58406-021-01',\n",
       "    '58406-446-01',\n",
       "    '58406-446-04',\n",
       "    '58406-021-04',\n",
       "    '58406-044-04',\n",
       "    '58406-425-34',\n",
       "    '58406-445-04',\n",
       "    '58406-032-04',\n",
       "    '58406-445-01',\n",
       "    '58406-435-01',\n",
       "    '58406-435-04',\n",
       "    '58406-032-01',\n",
       "    '58406-455-01',\n",
       "    '58406-455-04',\n",
       "    '58406-010-01',\n",
       "    '58406-010-04']},\n",
       "  'drugcharacterization': '1',\n",
       "  'drugstartdate': '20110518',\n",
       "  'drugbatchnumb': '1025531'}]"
      ]
     },
     "execution_count": 45,
     "metadata": {},
     "output_type": "execute_result"
    }
   ],
   "source": [
    "df.patient[0]['drug']"
   ]
  },
  {
   "cell_type": "code",
   "execution_count": 52,
   "metadata": {},
   "outputs": [
    {
     "data": {
      "text/plain": [
       "2    7272\n",
       "1    3929\n",
       "0       7\n",
       "Name: patientsex, dtype: int64"
      ]
     },
     "execution_count": 52,
     "metadata": {},
     "output_type": "execute_result"
    }
   ],
   "source": [
    "df_patient.patientsex.value_counts()"
   ]
  },
  {
   "cell_type": "code",
   "execution_count": 84,
   "metadata": {},
   "outputs": [
    {
     "name": "stdout",
     "output_type": "stream",
     "text": [
      "5374 32353 0\n"
     ]
    },
    {
     "data": {
      "image/png": "[encoded data removed]",
      "text/plain": [
       "<Figure size 432x288 with 1 Axes>"
      ]
     },
     "metadata": {
      "needs_background": "light"
     },
     "output_type": "display_data"
    }
   ],
   "source": [
    "ages = [int(x) for x in df_patient.patientonsetage if not pd.isna(x)]\n",
    "# assume ages >100 are something weird\n",
    "a, b, c = plt.hist(ages, bins=np.arange(0, 100, 10))\n",
    "print(len(ages), max(ages), min(ages))\n",
    "# adverse affects peak around 50... is that weird?"
   ]
  },
  {
   "cell_type": "code",
   "execution_count": null,
   "metadata": {},
   "outputs": [],
   "source": []
  },
  {
   "cell_type": "code",
   "execution_count": 97,
   "metadata": {},
   "outputs": [
    {
     "name": "stdout",
     "output_type": "stream",
     "text": [
      "35748 3170\n"
     ]
    }
   ],
   "source": [
    "reactions = [ reaction.get('reactionmeddrapt') for patient in df.patient for reaction in patient['reaction']]\n",
    "#get list of all reactions\n",
    "print( len(reactions), len(set(reactions)))\n",
    "# shows that there's a lot of reactions (~35k) and a lot of unique reactions (~3k). but since the number of unique\n",
    "# is so much smaller, that means there should be a lot of correlation --> matrix"
   ]
  },
  {
   "cell_type": "code",
   "execution_count": 137,
   "metadata": {},
   "outputs": [],
   "source": [
    "# drop events with NaN onset ages and store as int\n",
    "df_patient = df_patient.dropna(subset=['patientonsetage'])\n",
    "df_patient['patientonsetage'] = df_patient.patientonsetage.astype(int)\n",
    "# make three age categories\n",
    "df_patient_onsetage_50to60 = df_patient[ (df_patient.patientonsetage > 50) & (df_patient.patientonsetage < 60)]\n",
    "df_patient_onsetage_over65 = df_patient[ (df_patient.patientonsetage > 65) & (df_patient.patientonsetage < 110)]\n",
    "df_patient_onsetage_under45 = df_patient[ (df_patient.patientonsetage < 45)]\n",
    "# make reactions based on age category\n",
    "reactions_50to60 = [ r.get('reactionmeddrapt') for reaction in df_patient_onsetage_50to60.reaction for r in reaction]\n",
    "reactions_over65 = [ r.get('reactionmeddrapt') for reaction in df_patient_onsetage_over65.reaction for r in reaction]\n",
    "reactions_under45 = [ r.get('reactionmeddrapt') for reaction in df_patient_onsetage_under45.reaction for r in reaction]"
   ]
  },
  {
   "cell_type": "code",
   "execution_count": 190,
   "metadata": {},
   "outputs": [],
   "source": [
    "def countUnique(reactionsList):\n",
    "    (unique, counts) = np.unique( reactionsList, return_counts=True)\n",
    "    frequencies = np.asarray((unique, counts)).T\n",
    "    print(frequencies)\n",
    "    freq2 = sorted( frequencies, key=lambda pair: int(pair[1]), reverse=True) \n",
    "    print(freq2[:10])\n",
    "    return freq2[:10]"
   ]
  },
  {
   "cell_type": "code",
   "execution_count": 182,
   "metadata": {},
   "outputs": [
    {
     "name": "stdout",
     "output_type": "stream",
     "text": [
      "[['ABASIA' '1']\n",
      " ['ABDOMINAL DISCOMFORT' '13']\n",
      " ['ABDOMINAL DISTENSION' '7']\n",
      " ...\n",
      " ['WRONG TECHNIQUE IN DRUG USAGE PROCESS' '29']\n",
      " ['YAWNING' '1']\n",
      " ['YELLOW SKIN' '3']]\n",
      "[array(['INJECTION SITE PAIN', '131'], dtype='<U52'), array(['DEVICE EXPULSION', '124'], dtype='<U52'), array(['INJECTION SITE ERYTHEMA', '95'], dtype='<U52'), array(['NAUSEA', '95'], dtype='<U52'), array(['HEADACHE', '80'], dtype='<U52'), array(['FATIGUE', '75'], dtype='<U52'), array(['DRUG INEFFECTIVE', '72'], dtype='<U52'), array(['PYREXIA', '56'], dtype='<U52'), array(['INJECTION SITE SWELLING', '55'], dtype='<U52'), array(['VOMITING', '50'], dtype='<U52')]\n"
     ]
    }
   ],
   "source": [
    "counts_under45 = countUnique(reactions_under45)"
   ]
  },
  {
   "cell_type": "code",
   "execution_count": 180,
   "metadata": {},
   "outputs": [
    {
     "name": "stdout",
     "output_type": "stream",
     "text": [
      "[['ABASIA' '9']\n",
      " ['ABDOMINAL DISCOMFORT' '6']\n",
      " ['ABDOMINAL DISTENSION' '5']\n",
      " ...\n",
      " ['WRIST SURGERY' '1']\n",
      " ['WRONG DRUG ADMINISTERED' '1']\n",
      " ['WRONG TECHNIQUE IN DRUG USAGE PROCESS' '15']]\n",
      "[array(['INJECTION SITE PAIN', '79'], dtype='<U66'), array(['DRUG INEFFECTIVE', '58'], dtype='<U66'), array(['NAUSEA', '55'], dtype='<U66'), array(['HEADACHE', '54'], dtype='<U66'), array(['DIARRHOEA', '52'], dtype='<U66'), array(['FATIGUE', '47'], dtype='<U66'), array(['INJECTION SITE ERYTHEMA', '46'], dtype='<U66'), array(['PAIN', '45'], dtype='<U66'), array(['ARTHRALGIA', '40'], dtype='<U66'), array(['PAIN IN EXTREMITY', '36'], dtype='<U66')]\n"
     ]
    }
   ],
   "source": [
    "counts_50to60 = countUnique(reactions_50to60)"
   ]
  },
  {
   "cell_type": "code",
   "execution_count": 181,
   "metadata": {},
   "outputs": [
    {
     "name": "stdout",
     "output_type": "stream",
     "text": [
      "[['ABASIA' '12']\n",
      " ['ABDOMINAL DISCOMFORT' '10']\n",
      " ['ABDOMINAL DISTENSION' '6']\n",
      " ...\n",
      " ['WRIST FRACTURE' '2']\n",
      " ['WRONG DRUG ADMINISTERED' '2']\n",
      " ['WRONG TECHNIQUE IN DRUG USAGE PROCESS' '2']]\n",
      "[array(['DRUG INEFFECTIVE', '63'], dtype='<U62'), array(['NAUSEA', '45'], dtype='<U62'), array(['ARTHRALGIA', '43'], dtype='<U62'), array(['FALL', '42'], dtype='<U62'), array(['DIARRHOEA', '41'], dtype='<U62'), array(['DEATH', '40'], dtype='<U62'), array(['DYSPNOEA', '37'], dtype='<U62'), array(['FATIGUE', '37'], dtype='<U62'), array(['RENAL FAILURE ACUTE', '37'], dtype='<U62'), array(['ASTHENIA', '36'], dtype='<U62')]\n"
     ]
    }
   ],
   "source": [
    "counts_over65 = countUnique(reactions_over65)"
   ]
  },
  {
   "cell_type": "code",
   "execution_count": 252,
   "metadata": {},
   "outputs": [],
   "source": [
    "top10_reactions_under45 = [ pair[0] for pair in counts_under45 ]\n",
    "top10_counts_under45    = [ int(pair[1]) for pair in counts_under45 ]\n",
    "top10_reactions_50to60  = [ pair[0] for pair in counts_50to60 ]\n",
    "top10_counts_50to60     = [ int(pair[1]) for pair in counts_50to60 ]\n",
    "top10_reactions_over65  = [ pair[0] for pair in counts_over65 ]\n",
    "top10_counts_over65     = [ int(pair[1]) for pair in counts_over65 ]"
   ]
  },
  {
   "cell_type": "code",
   "execution_count": 248,
   "metadata": {},
   "outputs": [
    {
     "data": {
      "text/plain": [
       "['INJECTION SITE SWELLING',\n",
       " 'ARTHRALGIA',\n",
       " 'NAUSEA',\n",
       " 'RENAL FAILURE ACUTE',\n",
       " 'DEATH',\n",
       " 'DIARRHOEA',\n",
       " 'ASTHENIA',\n",
       " 'INJECTION SITE ERYTHEMA',\n",
       " 'FATIGUE',\n",
       " 'DRUG INEFFECTIVE',\n",
       " 'INJECTION SITE PAIN',\n",
       " 'HEADACHE',\n",
       " 'PAIN',\n",
       " 'VOMITING',\n",
       " 'PYREXIA',\n",
       " 'FALL',\n",
       " 'DYSPNOEA',\n",
       " 'DEVICE EXPULSION',\n",
       " 'PAIN IN EXTREMITY']"
      ]
     },
     "execution_count": 248,
     "metadata": {},
     "output_type": "execute_result"
    }
   ],
   "source": [
    "allReactions = list(set(top10_reactions_under45 + top10_reactions_50to60 + top10_reactions_over65))\n",
    "allReactions"
   ]
  },
  {
   "cell_type": "code",
   "execution_count": 253,
   "metadata": {},
   "outputs": [
    {
     "data": {
      "text/plain": [
       "<BarContainer object of 10 artists>"
      ]
     },
     "execution_count": 253,
     "metadata": {},
     "output_type": "execute_result"
    },
    {
     "data": {
      "image/png": "[encoded data removed]",
      "text/plain": [
       "<Figure size 432x288 with 1 Axes>"
      ]
     },
     "metadata": {
      "needs_background": "light"
     },
     "output_type": "display_data"
    }
   ],
   "source": [
    "plt.bar( top10_reactions_under45, top10_counts_under45)"
   ]
  },
  {
   "cell_type": "code",
   "execution_count": 254,
   "metadata": {},
   "outputs": [],
   "source": [
    "#maybe think of some way to store original tuple as dict and then plot n_reactions/n_population for three age groups\n",
    "# then compare a few common reactions across ages"
   ]
  },
  {
   "cell_type": "code",
   "execution_count": null,
   "metadata": {},
   "outputs": [],
   "source": []
  }
 ],
 "metadata": {
  "kernelspec": {
   "display_name": "Python 3",
   "language": "python",
   "name": "python3"
  },
  "language_info": {
   "codemirror_mode": {
    "name": "ipython",
    "version": 3
   },
   "file_extension": ".py",
   "mimetype": "text/x-python",
   "name": "python",
   "nbconvert_exporter": "python",
   "pygments_lexer": "ipython3",
   "version": "3.7.4"
  }
 },
 "nbformat": 4,
 "nbformat_minor": 2
}
